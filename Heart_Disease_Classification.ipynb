{
 "cells": [
  {
   "cell_type": "code",
   "execution_count": 147,
   "id": "05b8e2cc",
   "metadata": {},
   "outputs": [],
   "source": [
    "import pandas as pd\n",
    "import matplotlib.pyplot as plt\n",
    "import seaborn as sns\n",
    "import numpy as np\n",
    "\n",
    "%matplotlib inline"
   ]
  },
  {
   "cell_type": "code",
   "execution_count": 148,
   "id": "b1e1e3aa",
   "metadata": {},
   "outputs": [
    {
     "data": {
      "text/html": [
       "<div>\n",
       "<style scoped>\n",
       "    .dataframe tbody tr th:only-of-type {\n",
       "        vertical-align: middle;\n",
       "    }\n",
       "\n",
       "    .dataframe tbody tr th {\n",
       "        vertical-align: top;\n",
       "    }\n",
       "\n",
       "    .dataframe thead th {\n",
       "        text-align: right;\n",
       "    }\n",
       "</style>\n",
       "<table border=\"1\" class=\"dataframe\">\n",
       "  <thead>\n",
       "    <tr style=\"text-align: right;\">\n",
       "      <th></th>\n",
       "      <th>age</th>\n",
       "      <th>sex</th>\n",
       "      <th>cp</th>\n",
       "      <th>trestbps</th>\n",
       "      <th>chol</th>\n",
       "      <th>fbs</th>\n",
       "      <th>restecg</th>\n",
       "      <th>thalach</th>\n",
       "      <th>exang</th>\n",
       "      <th>oldpeak</th>\n",
       "      <th>slope</th>\n",
       "      <th>ca</th>\n",
       "      <th>thal</th>\n",
       "      <th>target</th>\n",
       "    </tr>\n",
       "  </thead>\n",
       "  <tbody>\n",
       "    <tr>\n",
       "      <th>0</th>\n",
       "      <td>63</td>\n",
       "      <td>1</td>\n",
       "      <td>3</td>\n",
       "      <td>145</td>\n",
       "      <td>233</td>\n",
       "      <td>1</td>\n",
       "      <td>0</td>\n",
       "      <td>150</td>\n",
       "      <td>0</td>\n",
       "      <td>2.3</td>\n",
       "      <td>0</td>\n",
       "      <td>0</td>\n",
       "      <td>1</td>\n",
       "      <td>1</td>\n",
       "    </tr>\n",
       "    <tr>\n",
       "      <th>1</th>\n",
       "      <td>37</td>\n",
       "      <td>1</td>\n",
       "      <td>2</td>\n",
       "      <td>130</td>\n",
       "      <td>250</td>\n",
       "      <td>0</td>\n",
       "      <td>1</td>\n",
       "      <td>187</td>\n",
       "      <td>0</td>\n",
       "      <td>3.5</td>\n",
       "      <td>0</td>\n",
       "      <td>0</td>\n",
       "      <td>2</td>\n",
       "      <td>1</td>\n",
       "    </tr>\n",
       "    <tr>\n",
       "      <th>2</th>\n",
       "      <td>41</td>\n",
       "      <td>0</td>\n",
       "      <td>1</td>\n",
       "      <td>130</td>\n",
       "      <td>204</td>\n",
       "      <td>0</td>\n",
       "      <td>0</td>\n",
       "      <td>172</td>\n",
       "      <td>0</td>\n",
       "      <td>1.4</td>\n",
       "      <td>2</td>\n",
       "      <td>0</td>\n",
       "      <td>2</td>\n",
       "      <td>1</td>\n",
       "    </tr>\n",
       "    <tr>\n",
       "      <th>3</th>\n",
       "      <td>56</td>\n",
       "      <td>1</td>\n",
       "      <td>1</td>\n",
       "      <td>120</td>\n",
       "      <td>236</td>\n",
       "      <td>0</td>\n",
       "      <td>1</td>\n",
       "      <td>178</td>\n",
       "      <td>0</td>\n",
       "      <td>0.8</td>\n",
       "      <td>2</td>\n",
       "      <td>0</td>\n",
       "      <td>2</td>\n",
       "      <td>1</td>\n",
       "    </tr>\n",
       "    <tr>\n",
       "      <th>4</th>\n",
       "      <td>57</td>\n",
       "      <td>0</td>\n",
       "      <td>0</td>\n",
       "      <td>120</td>\n",
       "      <td>354</td>\n",
       "      <td>0</td>\n",
       "      <td>1</td>\n",
       "      <td>163</td>\n",
       "      <td>1</td>\n",
       "      <td>0.6</td>\n",
       "      <td>2</td>\n",
       "      <td>0</td>\n",
       "      <td>2</td>\n",
       "      <td>1</td>\n",
       "    </tr>\n",
       "    <tr>\n",
       "      <th>...</th>\n",
       "      <td>...</td>\n",
       "      <td>...</td>\n",
       "      <td>...</td>\n",
       "      <td>...</td>\n",
       "      <td>...</td>\n",
       "      <td>...</td>\n",
       "      <td>...</td>\n",
       "      <td>...</td>\n",
       "      <td>...</td>\n",
       "      <td>...</td>\n",
       "      <td>...</td>\n",
       "      <td>...</td>\n",
       "      <td>...</td>\n",
       "      <td>...</td>\n",
       "    </tr>\n",
       "    <tr>\n",
       "      <th>298</th>\n",
       "      <td>57</td>\n",
       "      <td>0</td>\n",
       "      <td>0</td>\n",
       "      <td>140</td>\n",
       "      <td>241</td>\n",
       "      <td>0</td>\n",
       "      <td>1</td>\n",
       "      <td>123</td>\n",
       "      <td>1</td>\n",
       "      <td>0.2</td>\n",
       "      <td>1</td>\n",
       "      <td>0</td>\n",
       "      <td>3</td>\n",
       "      <td>0</td>\n",
       "    </tr>\n",
       "    <tr>\n",
       "      <th>299</th>\n",
       "      <td>45</td>\n",
       "      <td>1</td>\n",
       "      <td>3</td>\n",
       "      <td>110</td>\n",
       "      <td>264</td>\n",
       "      <td>0</td>\n",
       "      <td>1</td>\n",
       "      <td>132</td>\n",
       "      <td>0</td>\n",
       "      <td>1.2</td>\n",
       "      <td>1</td>\n",
       "      <td>0</td>\n",
       "      <td>3</td>\n",
       "      <td>0</td>\n",
       "    </tr>\n",
       "    <tr>\n",
       "      <th>300</th>\n",
       "      <td>68</td>\n",
       "      <td>1</td>\n",
       "      <td>0</td>\n",
       "      <td>144</td>\n",
       "      <td>193</td>\n",
       "      <td>1</td>\n",
       "      <td>1</td>\n",
       "      <td>141</td>\n",
       "      <td>0</td>\n",
       "      <td>3.4</td>\n",
       "      <td>1</td>\n",
       "      <td>2</td>\n",
       "      <td>3</td>\n",
       "      <td>0</td>\n",
       "    </tr>\n",
       "    <tr>\n",
       "      <th>301</th>\n",
       "      <td>57</td>\n",
       "      <td>1</td>\n",
       "      <td>0</td>\n",
       "      <td>130</td>\n",
       "      <td>131</td>\n",
       "      <td>0</td>\n",
       "      <td>1</td>\n",
       "      <td>115</td>\n",
       "      <td>1</td>\n",
       "      <td>1.2</td>\n",
       "      <td>1</td>\n",
       "      <td>1</td>\n",
       "      <td>3</td>\n",
       "      <td>0</td>\n",
       "    </tr>\n",
       "    <tr>\n",
       "      <th>302</th>\n",
       "      <td>57</td>\n",
       "      <td>0</td>\n",
       "      <td>1</td>\n",
       "      <td>130</td>\n",
       "      <td>236</td>\n",
       "      <td>0</td>\n",
       "      <td>0</td>\n",
       "      <td>174</td>\n",
       "      <td>0</td>\n",
       "      <td>0.0</td>\n",
       "      <td>1</td>\n",
       "      <td>1</td>\n",
       "      <td>2</td>\n",
       "      <td>0</td>\n",
       "    </tr>\n",
       "  </tbody>\n",
       "</table>\n",
       "<p>303 rows × 14 columns</p>\n",
       "</div>"
      ],
      "text/plain": [
       "     age  sex  cp  trestbps  chol  fbs  restecg  thalach  exang  oldpeak  \\\n",
       "0     63    1   3       145   233    1        0      150      0      2.3   \n",
       "1     37    1   2       130   250    0        1      187      0      3.5   \n",
       "2     41    0   1       130   204    0        0      172      0      1.4   \n",
       "3     56    1   1       120   236    0        1      178      0      0.8   \n",
       "4     57    0   0       120   354    0        1      163      1      0.6   \n",
       "..   ...  ...  ..       ...   ...  ...      ...      ...    ...      ...   \n",
       "298   57    0   0       140   241    0        1      123      1      0.2   \n",
       "299   45    1   3       110   264    0        1      132      0      1.2   \n",
       "300   68    1   0       144   193    1        1      141      0      3.4   \n",
       "301   57    1   0       130   131    0        1      115      1      1.2   \n",
       "302   57    0   1       130   236    0        0      174      0      0.0   \n",
       "\n",
       "     slope  ca  thal  target  \n",
       "0        0   0     1       1  \n",
       "1        0   0     2       1  \n",
       "2        2   0     2       1  \n",
       "3        2   0     2       1  \n",
       "4        2   0     2       1  \n",
       "..     ...  ..   ...     ...  \n",
       "298      1   0     3       0  \n",
       "299      1   0     3       0  \n",
       "300      1   2     3       0  \n",
       "301      1   1     3       0  \n",
       "302      1   1     2       0  \n",
       "\n",
       "[303 rows x 14 columns]"
      ]
     },
     "execution_count": 148,
     "metadata": {},
     "output_type": "execute_result"
    }
   ],
   "source": [
    "data = pd.read_csv('heart-disease.csv')\n",
    "data"
   ]
  },
  {
   "cell_type": "markdown",
   "id": "763b3719",
   "metadata": {},
   "source": [
    "#### Data dictionary\n",
    "\n",
    "1. age - age in years\n",
    "2. sex - (1 = male; 0 = female)\n",
    "3. cp - chest pain type\n",
    "  * 0: Typical angina: chest pain related decrease blood supply to the heart\n",
    "  * 1: Atypical angina: chest pain not related to heart\n",
    "  * 2: Non-anginal pain: typically esophageal spasms (non heart related)\n",
    "  * 3: Asymptomatic: chest pain not showing signs of disease\n",
    "4. trestbps - resting blood pressure (in mm Hg on admission to the hospital)\n",
    "  * anything above 130-140 is typically cause for concern\n",
    "5. chol - serum cholestoral in mg/dl\n",
    "  * serum = LDL + HDL + .2 * triglycerides\n",
    "  * above 200 is cause for concern\n",
    "6. fbs - (fasting blood sugar > 120 mg/dl) (1 = true; 0 = false)\n",
    "  * '>126' mg/dL signals diabetes\n",
    "7. restecg - resting electrocardiographic results\n",
    "  * 0: Nothing to note\n",
    "  * 1: ST-T Wave abnormality\n",
    "    * can range from mild symptoms to severe problems\n",
    "    * signals non-normal heart beat\n",
    "  * 2: Possible or definite left ventricular hypertrophy\n",
    "    * Enlarged heart's main pumping chamber\n",
    "8. thalach - maximum heart rate achieved\n",
    "9. exang - exercise induced angina (1 = yes; 0 = no)\n",
    "10. oldpeak - ST depression induced by exercise relative to rest\n",
    "  * looks at stress of heart during excercise\n",
    "  * unhealthy heart will stress more\n",
    "11. slope - the slope of the peak exercise ST segment\n",
    "  * 0: Upsloping: better heart rate with excercise (uncommon)\n",
    "  * 1: Flatsloping: minimal change (typical healthy heart)\n",
    "  * 2: Downslopins: signs of unhealthy heart\n",
    "12. ca - number of major vessels (0-3) colored by flourosopy\n",
    "  * colored vessel means the doctor can see the blood passing through\n",
    "  * the more blood movement the better (no clots)\n",
    "13. thal - thalium stress result\n",
    "  * 1,3: normal\n",
    "  * 6: fixed defect: used to be defect but ok now\n",
    "  * 7: reversable defect: no proper blood movement when excercising\n",
    "14. target - have disease or not (1=yes, 0=no) (= the predicted attribute)\n",
    "\n",
    "Note: No personal identifiable information (PPI) can be found in the dataset."
   ]
  },
  {
   "cell_type": "markdown",
   "id": "623e0698",
   "metadata": {},
   "source": [
    "### Exploratory Data Analysis"
   ]
  },
  {
   "cell_type": "code",
   "execution_count": 5,
   "id": "b94c34e1",
   "metadata": {},
   "outputs": [
    {
     "data": {
      "text/html": [
       "<div>\n",
       "<style scoped>\n",
       "    .dataframe tbody tr th:only-of-type {\n",
       "        vertical-align: middle;\n",
       "    }\n",
       "\n",
       "    .dataframe tbody tr th {\n",
       "        vertical-align: top;\n",
       "    }\n",
       "\n",
       "    .dataframe thead th {\n",
       "        text-align: right;\n",
       "    }\n",
       "</style>\n",
       "<table border=\"1\" class=\"dataframe\">\n",
       "  <thead>\n",
       "    <tr style=\"text-align: right;\">\n",
       "      <th></th>\n",
       "      <th>age</th>\n",
       "      <th>sex</th>\n",
       "      <th>cp</th>\n",
       "      <th>trestbps</th>\n",
       "      <th>chol</th>\n",
       "      <th>fbs</th>\n",
       "      <th>restecg</th>\n",
       "      <th>thalach</th>\n",
       "      <th>exang</th>\n",
       "      <th>oldpeak</th>\n",
       "      <th>slope</th>\n",
       "      <th>ca</th>\n",
       "      <th>thal</th>\n",
       "      <th>target</th>\n",
       "    </tr>\n",
       "  </thead>\n",
       "  <tbody>\n",
       "    <tr>\n",
       "      <th>count</th>\n",
       "      <td>303.000000</td>\n",
       "      <td>303.000000</td>\n",
       "      <td>303.000000</td>\n",
       "      <td>303.000000</td>\n",
       "      <td>303.000000</td>\n",
       "      <td>303.000000</td>\n",
       "      <td>303.000000</td>\n",
       "      <td>303.000000</td>\n",
       "      <td>303.000000</td>\n",
       "      <td>303.000000</td>\n",
       "      <td>303.000000</td>\n",
       "      <td>303.000000</td>\n",
       "      <td>303.000000</td>\n",
       "      <td>303.000000</td>\n",
       "    </tr>\n",
       "    <tr>\n",
       "      <th>mean</th>\n",
       "      <td>54.366337</td>\n",
       "      <td>0.683168</td>\n",
       "      <td>0.966997</td>\n",
       "      <td>131.623762</td>\n",
       "      <td>246.264026</td>\n",
       "      <td>0.148515</td>\n",
       "      <td>0.528053</td>\n",
       "      <td>149.646865</td>\n",
       "      <td>0.326733</td>\n",
       "      <td>1.039604</td>\n",
       "      <td>1.399340</td>\n",
       "      <td>0.729373</td>\n",
       "      <td>2.313531</td>\n",
       "      <td>0.544554</td>\n",
       "    </tr>\n",
       "    <tr>\n",
       "      <th>std</th>\n",
       "      <td>9.082101</td>\n",
       "      <td>0.466011</td>\n",
       "      <td>1.032052</td>\n",
       "      <td>17.538143</td>\n",
       "      <td>51.830751</td>\n",
       "      <td>0.356198</td>\n",
       "      <td>0.525860</td>\n",
       "      <td>22.905161</td>\n",
       "      <td>0.469794</td>\n",
       "      <td>1.161075</td>\n",
       "      <td>0.616226</td>\n",
       "      <td>1.022606</td>\n",
       "      <td>0.612277</td>\n",
       "      <td>0.498835</td>\n",
       "    </tr>\n",
       "    <tr>\n",
       "      <th>min</th>\n",
       "      <td>29.000000</td>\n",
       "      <td>0.000000</td>\n",
       "      <td>0.000000</td>\n",
       "      <td>94.000000</td>\n",
       "      <td>126.000000</td>\n",
       "      <td>0.000000</td>\n",
       "      <td>0.000000</td>\n",
       "      <td>71.000000</td>\n",
       "      <td>0.000000</td>\n",
       "      <td>0.000000</td>\n",
       "      <td>0.000000</td>\n",
       "      <td>0.000000</td>\n",
       "      <td>0.000000</td>\n",
       "      <td>0.000000</td>\n",
       "    </tr>\n",
       "    <tr>\n",
       "      <th>25%</th>\n",
       "      <td>47.500000</td>\n",
       "      <td>0.000000</td>\n",
       "      <td>0.000000</td>\n",
       "      <td>120.000000</td>\n",
       "      <td>211.000000</td>\n",
       "      <td>0.000000</td>\n",
       "      <td>0.000000</td>\n",
       "      <td>133.500000</td>\n",
       "      <td>0.000000</td>\n",
       "      <td>0.000000</td>\n",
       "      <td>1.000000</td>\n",
       "      <td>0.000000</td>\n",
       "      <td>2.000000</td>\n",
       "      <td>0.000000</td>\n",
       "    </tr>\n",
       "    <tr>\n",
       "      <th>50%</th>\n",
       "      <td>55.000000</td>\n",
       "      <td>1.000000</td>\n",
       "      <td>1.000000</td>\n",
       "      <td>130.000000</td>\n",
       "      <td>240.000000</td>\n",
       "      <td>0.000000</td>\n",
       "      <td>1.000000</td>\n",
       "      <td>153.000000</td>\n",
       "      <td>0.000000</td>\n",
       "      <td>0.800000</td>\n",
       "      <td>1.000000</td>\n",
       "      <td>0.000000</td>\n",
       "      <td>2.000000</td>\n",
       "      <td>1.000000</td>\n",
       "    </tr>\n",
       "    <tr>\n",
       "      <th>75%</th>\n",
       "      <td>61.000000</td>\n",
       "      <td>1.000000</td>\n",
       "      <td>2.000000</td>\n",
       "      <td>140.000000</td>\n",
       "      <td>274.500000</td>\n",
       "      <td>0.000000</td>\n",
       "      <td>1.000000</td>\n",
       "      <td>166.000000</td>\n",
       "      <td>1.000000</td>\n",
       "      <td>1.600000</td>\n",
       "      <td>2.000000</td>\n",
       "      <td>1.000000</td>\n",
       "      <td>3.000000</td>\n",
       "      <td>1.000000</td>\n",
       "    </tr>\n",
       "    <tr>\n",
       "      <th>max</th>\n",
       "      <td>77.000000</td>\n",
       "      <td>1.000000</td>\n",
       "      <td>3.000000</td>\n",
       "      <td>200.000000</td>\n",
       "      <td>564.000000</td>\n",
       "      <td>1.000000</td>\n",
       "      <td>2.000000</td>\n",
       "      <td>202.000000</td>\n",
       "      <td>1.000000</td>\n",
       "      <td>6.200000</td>\n",
       "      <td>2.000000</td>\n",
       "      <td>4.000000</td>\n",
       "      <td>3.000000</td>\n",
       "      <td>1.000000</td>\n",
       "    </tr>\n",
       "  </tbody>\n",
       "</table>\n",
       "</div>"
      ],
      "text/plain": [
       "              age         sex          cp    trestbps        chol         fbs  \\\n",
       "count  303.000000  303.000000  303.000000  303.000000  303.000000  303.000000   \n",
       "mean    54.366337    0.683168    0.966997  131.623762  246.264026    0.148515   \n",
       "std      9.082101    0.466011    1.032052   17.538143   51.830751    0.356198   \n",
       "min     29.000000    0.000000    0.000000   94.000000  126.000000    0.000000   \n",
       "25%     47.500000    0.000000    0.000000  120.000000  211.000000    0.000000   \n",
       "50%     55.000000    1.000000    1.000000  130.000000  240.000000    0.000000   \n",
       "75%     61.000000    1.000000    2.000000  140.000000  274.500000    0.000000   \n",
       "max     77.000000    1.000000    3.000000  200.000000  564.000000    1.000000   \n",
       "\n",
       "          restecg     thalach       exang     oldpeak       slope          ca  \\\n",
       "count  303.000000  303.000000  303.000000  303.000000  303.000000  303.000000   \n",
       "mean     0.528053  149.646865    0.326733    1.039604    1.399340    0.729373   \n",
       "std      0.525860   22.905161    0.469794    1.161075    0.616226    1.022606   \n",
       "min      0.000000   71.000000    0.000000    0.000000    0.000000    0.000000   \n",
       "25%      0.000000  133.500000    0.000000    0.000000    1.000000    0.000000   \n",
       "50%      1.000000  153.000000    0.000000    0.800000    1.000000    0.000000   \n",
       "75%      1.000000  166.000000    1.000000    1.600000    2.000000    1.000000   \n",
       "max      2.000000  202.000000    1.000000    6.200000    2.000000    4.000000   \n",
       "\n",
       "             thal      target  \n",
       "count  303.000000  303.000000  \n",
       "mean     2.313531    0.544554  \n",
       "std      0.612277    0.498835  \n",
       "min      0.000000    0.000000  \n",
       "25%      2.000000    0.000000  \n",
       "50%      2.000000    1.000000  \n",
       "75%      3.000000    1.000000  \n",
       "max      3.000000    1.000000  "
      ]
     },
     "execution_count": 5,
     "metadata": {},
     "output_type": "execute_result"
    }
   ],
   "source": [
    "data.describe()"
   ]
  },
  {
   "cell_type": "code",
   "execution_count": 6,
   "id": "17f28e6e",
   "metadata": {},
   "outputs": [
    {
     "name": "stdout",
     "output_type": "stream",
     "text": [
      "<class 'pandas.core.frame.DataFrame'>\n",
      "RangeIndex: 303 entries, 0 to 302\n",
      "Data columns (total 14 columns):\n",
      " #   Column    Non-Null Count  Dtype  \n",
      "---  ------    --------------  -----  \n",
      " 0   age       303 non-null    int64  \n",
      " 1   sex       303 non-null    int64  \n",
      " 2   cp        303 non-null    int64  \n",
      " 3   trestbps  303 non-null    int64  \n",
      " 4   chol      303 non-null    int64  \n",
      " 5   fbs       303 non-null    int64  \n",
      " 6   restecg   303 non-null    int64  \n",
      " 7   thalach   303 non-null    int64  \n",
      " 8   exang     303 non-null    int64  \n",
      " 9   oldpeak   303 non-null    float64\n",
      " 10  slope     303 non-null    int64  \n",
      " 11  ca        303 non-null    int64  \n",
      " 12  thal      303 non-null    int64  \n",
      " 13  target    303 non-null    int64  \n",
      "dtypes: float64(1), int64(13)\n",
      "memory usage: 33.3 KB\n"
     ]
    }
   ],
   "source": [
    "data.info()"
   ]
  },
  {
   "cell_type": "code",
   "execution_count": 7,
   "id": "48e0297a",
   "metadata": {},
   "outputs": [
    {
     "data": {
      "text/plain": [
       "1    0.544554\n",
       "0    0.455446\n",
       "Name: target, dtype: float64"
      ]
     },
     "execution_count": 7,
     "metadata": {},
     "output_type": "execute_result"
    }
   ],
   "source": [
    "data.target.value_counts(normalize=True) #Data is balanced"
   ]
  },
  {
   "cell_type": "code",
   "execution_count": 8,
   "id": "085b9d74",
   "metadata": {},
   "outputs": [
    {
     "data": {
      "text/plain": [
       "<AxesSubplot:>"
      ]
     },
     "execution_count": 8,
     "metadata": {},
     "output_type": "execute_result"
    },
    {
     "data": {
      "image/png": "[encoded data removed]",
      "text/plain": [
       "<Figure size 432x288 with 1 Axes>"
      ]
     },
     "metadata": {
      "needs_background": "light"
     },
     "output_type": "display_data"
    }
   ],
   "source": [
    "#Plot the value counts with a bargraph\n",
    "data.target.value_counts().plot(kind='bar', color=['salmon','lightblue'])"
   ]
  },
  {
   "cell_type": "markdown",
   "id": "edb07d1f",
   "metadata": {},
   "source": [
    "##### Heart Disease Frequency according to Gender"
   ]
  },
  {
   "cell_type": "code",
   "execution_count": 9,
   "id": "97ddf0d8",
   "metadata": {},
   "outputs": [
    {
     "data": {
      "text/plain": [
       "1    207\n",
       "0     96\n",
       "Name: sex, dtype: int64"
      ]
     },
     "execution_count": 9,
     "metadata": {},
     "output_type": "execute_result"
    }
   ],
   "source": [
    "data.sex.value_counts()"
   ]
  },
  {
   "cell_type": "code",
   "execution_count": 10,
   "id": "ec1e21f5",
   "metadata": {},
   "outputs": [
    {
     "data": {
      "text/html": [
       "<div>\n",
       "<style scoped>\n",
       "    .dataframe tbody tr th:only-of-type {\n",
       "        vertical-align: middle;\n",
       "    }\n",
       "\n",
       "    .dataframe tbody tr th {\n",
       "        vertical-align: top;\n",
       "    }\n",
       "\n",
       "    .dataframe thead th {\n",
       "        text-align: right;\n",
       "    }\n",
       "</style>\n",
       "<table border=\"1\" class=\"dataframe\">\n",
       "  <thead>\n",
       "    <tr style=\"text-align: right;\">\n",
       "      <th>sex</th>\n",
       "      <th>0</th>\n",
       "      <th>1</th>\n",
       "    </tr>\n",
       "    <tr>\n",
       "      <th>target</th>\n",
       "      <th></th>\n",
       "      <th></th>\n",
       "    </tr>\n",
       "  </thead>\n",
       "  <tbody>\n",
       "    <tr>\n",
       "      <th>0</th>\n",
       "      <td>24</td>\n",
       "      <td>114</td>\n",
       "    </tr>\n",
       "    <tr>\n",
       "      <th>1</th>\n",
       "      <td>72</td>\n",
       "      <td>93</td>\n",
       "    </tr>\n",
       "  </tbody>\n",
       "</table>\n",
       "</div>"
      ],
      "text/plain": [
       "sex      0    1\n",
       "target         \n",
       "0       24  114\n",
       "1       72   93"
      ]
     },
     "execution_count": 10,
     "metadata": {},
     "output_type": "execute_result"
    }
   ],
   "source": [
    "pd.crosstab(data.target, data.sex)"
   ]
  },
  {
   "cell_type": "code",
   "execution_count": 11,
   "id": "aca3a5a2",
   "metadata": {},
   "outputs": [
    {
     "data": {
      "text/plain": [
       "<AxesSubplot:>"
      ]
     },
     "execution_count": 11,
     "metadata": {},
     "output_type": "execute_result"
    },
    {
     "data": {
      "image/png": "[encoded data removed]",
      "text/plain": [
       "<Figure size 1080x720 with 2 Axes>"
      ]
     },
     "metadata": {
      "needs_background": "light"
     },
     "output_type": "display_data"
    }
   ],
   "source": [
    "# Correlation of factors\n",
    "corr_matrix = data.corr()\n",
    "plt.figure(figsize=(15,10))\n",
    "sns.heatmap(corr_matrix,\n",
    "           annot=True,linewidths=0.5,\n",
    "           fmt=\"0.2f\",\n",
    "           cmap=\"YlGnBu\")"
   ]
  },
  {
   "cell_type": "markdown",
   "id": "560384a4",
   "metadata": {},
   "source": [
    "### Split data into training set"
   ]
  },
  {
   "cell_type": "code",
   "execution_count": 184,
   "id": "9096f5a5",
   "metadata": {},
   "outputs": [],
   "source": [
    "from sklearn.model_selection import train_test_split\n",
    "\n",
    "x = data.drop('target', axis=1)\n",
    "y = data['target']\n",
    "\n",
    "X_train, X_test, y_train, y_test = train_test_split(x, y, test_size=0.2)\n"
   ]
  },
  {
   "cell_type": "code",
   "execution_count": 14,
   "id": "ea1fff46",
   "metadata": {},
   "outputs": [],
   "source": [
    "# Import models\n",
    "from sklearn.neighbors import KNeighborsClassifier\n",
    "from sklearn.ensemble import RandomForestClassifier\n",
    "from sklearn.linear_model import LogisticRegression\n",
    "from sklearn.svm import LinearSVC"
   ]
  },
  {
   "cell_type": "code",
   "execution_count": 15,
   "id": "54bddd3e",
   "metadata": {},
   "outputs": [],
   "source": [
    "# Function to fit and score all models\n",
    "models = {'KNN': KNeighborsClassifier(),\n",
    "          'Logistic Regression': LogisticRegression(),\n",
    "          'Random Forest': RandomForestClassifier(),\n",
    "          'Linear SVC': LinearSVC()}\n",
    "\n",
    "def fit_and_score_models(models, X_train, X_test, y_train, y_test):\n",
    "    # Import the modes and the training data\n",
    "    fitted_models = {}\n",
    "    for name, model in models.items():\n",
    "        fitted_model = model.fit(X_train, y_train)\n",
    "        score = fitted_model.score(X_test, y_test)\n",
    "        fitted_models[name] = score\n",
    "    return fitted_models    \n",
    "\n"
   ]
  },
  {
   "cell_type": "code",
   "execution_count": 16,
   "id": "a851fbba",
   "metadata": {},
   "outputs": [
    {
     "name": "stdout",
     "output_type": "stream",
     "text": [
      "{'KNN': 0.5901639344262295, 'Logistic Regression': 0.8852459016393442, 'Random Forest': 0.8852459016393442, 'Linear SVC': 0.7540983606557377}\n"
     ]
    },
    {
     "name": "stderr",
     "output_type": "stream",
     "text": [
      "C:\\Users\\molli\\anaconda3\\envs\\ml\\lib\\site-packages\\sklearn\\linear_model\\_logistic.py:763: ConvergenceWarning: lbfgs failed to converge (status=1):\n",
      "STOP: TOTAL NO. of ITERATIONS REACHED LIMIT.\n",
      "\n",
      "Increase the number of iterations (max_iter) or scale the data as shown in:\n",
      "    https://scikit-learn.org/stable/modules/preprocessing.html\n",
      "Please also refer to the documentation for alternative solver options:\n",
      "    https://scikit-learn.org/stable/modules/linear_model.html#logistic-regression\n",
      "  n_iter_i = _check_optimize_result(\n",
      "C:\\Users\\molli\\anaconda3\\envs\\ml\\lib\\site-packages\\sklearn\\svm\\_base.py:985: ConvergenceWarning: Liblinear failed to converge, increase the number of iterations.\n",
      "  warnings.warn(\"Liblinear failed to converge, increase \"\n"
     ]
    }
   ],
   "source": [
    "model_scores = fit_and_score_models(models, X_train, X_test, y_train, y_test)\n",
    "print(model_scores)"
   ]
  },
  {
   "cell_type": "markdown",
   "id": "7d3db93a",
   "metadata": {},
   "source": [
    "### Model Comparison"
   ]
  },
  {
   "cell_type": "code",
   "execution_count": 17,
   "id": "f28aa3ee",
   "metadata": {},
   "outputs": [
    {
     "data": {
      "image/png": "[encoded data removed]",
      "text/plain": [
       "<Figure size 432x288 with 1 Axes>"
      ]
     },
     "metadata": {
      "needs_background": "light"
     },
     "output_type": "display_data"
    }
   ],
   "source": [
    "model_compare = pd.DataFrame(model_scores, index=['acuracy'])\n",
    "model_compare.T.plot.bar();"
   ]
  },
  {
   "cell_type": "markdown",
   "id": "b2a6ae89",
   "metadata": {},
   "source": [
    "### Hyperparameter using RandomSearchCV\n",
    "Logistic Regression and Random Forrest"
   ]
  },
  {
   "cell_type": "code",
   "execution_count": 18,
   "id": "822723a4",
   "metadata": {},
   "outputs": [],
   "source": [
    "from sklearn.model_selection import RandomizedSearchCV"
   ]
  },
  {
   "cell_type": "code",
   "execution_count": 72,
   "id": "577a7c38",
   "metadata": {},
   "outputs": [],
   "source": [
    "# Hyperparameter grid for logistic regression\n",
    "log_reg_grid = {\"C\":np.logspace(-4,4,10),\n",
    "                \"solver\": ['newton-cg', 'liblinear']}\n",
    "\n",
    "# Hyperparameter grid for RandomForestClassifier\n",
    "rf_grid = {'n_estimators': np.arange(1, 5000, 50),\n",
    "           'max_depth': [None, 1,2,3,4,5],\n",
    "           'min_samples_split': np.arange(2,100,2),\n",
    "           'min_samples_leaf': np.arange(1, 50, 2)}\n"
   ]
  },
  {
   "cell_type": "code",
   "execution_count": 73,
   "id": "a2878eff",
   "metadata": {},
   "outputs": [
    {
     "name": "stderr",
     "output_type": "stream",
     "text": [
      "C:\\Users\\molli\\anaconda3\\envs\\ml\\lib\\site-packages\\sklearn\\model_selection\\_search.py:285: UserWarning: The total space of parameters 20 is smaller than n_iter=50. Running 20 iterations. For exhaustive searches, use GridSearchCV.\n",
      "  warnings.warn(\n"
     ]
    },
    {
     "name": "stdout",
     "output_type": "stream",
     "text": [
      "Fitting 5 folds for each of 20 candidates, totalling 100 fits\n"
     ]
    },
    {
     "data": {
      "text/plain": [
       "RandomizedSearchCV(cv=5, estimator=LogisticRegression(), n_iter=50,\n",
       "                   param_distributions={'C': array([1.00000000e-04, 7.74263683e-04, 5.99484250e-03, 4.64158883e-02,\n",
       "       3.59381366e-01, 2.78255940e+00, 2.15443469e+01, 1.66810054e+02,\n",
       "       1.29154967e+03, 1.00000000e+04]),\n",
       "                                        'solver': ['newton-cg', 'liblinear']},\n",
       "                   verbose=True)"
      ]
     },
     "execution_count": 73,
     "metadata": {},
     "output_type": "execute_result"
    }
   ],
   "source": [
    "# Tune LogisticRegression\n",
    "np.random.seed(100)\n",
    "\n",
    "rs_log_reg = RandomizedSearchCV(LogisticRegression(),\n",
    "                               param_distributions = log_reg_grid,\n",
    "                               cv= 5,\n",
    "                               n_iter = 50,\n",
    "                               verbose=True)\n",
    "\n",
    "rs_log_reg.fit(X_train, y_train)"
   ]
  },
  {
   "cell_type": "code",
   "execution_count": 74,
   "id": "07ae1636",
   "metadata": {},
   "outputs": [
    {
     "data": {
      "text/plain": [
       "{'solver': 'liblinear', 'C': 0.3593813663804626}"
      ]
     },
     "execution_count": 74,
     "metadata": {},
     "output_type": "execute_result"
    }
   ],
   "source": [
    "rs_log_reg.best_params_"
   ]
  },
  {
   "cell_type": "code",
   "execution_count": 75,
   "id": "e5b511bc",
   "metadata": {},
   "outputs": [
    {
     "data": {
      "text/plain": [
       "0.8688524590163934"
      ]
     },
     "execution_count": 75,
     "metadata": {},
     "output_type": "execute_result"
    }
   ],
   "source": [
    "rs_log_reg.score(X_test, y_test)"
   ]
  },
  {
   "cell_type": "code",
   "execution_count": 69,
   "id": "f22c87ef",
   "metadata": {},
   "outputs": [
    {
     "name": "stdout",
     "output_type": "stream",
     "text": [
      "Fitting 5 folds for each of 20 candidates, totalling 100 fits\n",
      "[CV 1/5] END max_depth=None, min_samples_leaf=23, min_samples_split=44, n_estimators=4401; total time=   4.3s\n",
      "[CV 2/5] END max_depth=None, min_samples_leaf=23, min_samples_split=44, n_estimators=4401; total time=   2.4s\n",
      "[CV 3/5] END max_depth=None, min_samples_leaf=23, min_samples_split=44, n_estimators=4401; total time=   2.4s\n",
      "[CV 4/5] END max_depth=None, min_samples_leaf=23, min_samples_split=44, n_estimators=4401; total time=   2.4s\n",
      "[CV 5/5] END max_depth=None, min_samples_leaf=23, min_samples_split=44, n_estimators=4401; total time=   2.5s\n",
      "[CV 1/5] END max_depth=1, min_samples_leaf=37, min_samples_split=2, n_estimators=2751; total time=   1.6s\n",
      "[CV 2/5] END max_depth=1, min_samples_leaf=37, min_samples_split=2, n_estimators=2751; total time=   1.6s\n",
      "[CV 3/5] END max_depth=1, min_samples_leaf=37, min_samples_split=2, n_estimators=2751; total time=   1.6s\n",
      "[CV 4/5] END max_depth=1, min_samples_leaf=37, min_samples_split=2, n_estimators=2751; total time=   1.6s\n",
      "[CV 5/5] END max_depth=1, min_samples_leaf=37, min_samples_split=2, n_estimators=2751; total time=   1.6s\n",
      "[CV 1/5] END max_depth=None, min_samples_leaf=27, min_samples_split=40, n_estimators=751; total time=   0.4s\n",
      "[CV 2/5] END max_depth=None, min_samples_leaf=27, min_samples_split=40, n_estimators=751; total time=   0.4s\n",
      "[CV 3/5] END max_depth=None, min_samples_leaf=27, min_samples_split=40, n_estimators=751; total time=   0.4s\n",
      "[CV 4/5] END max_depth=None, min_samples_leaf=27, min_samples_split=40, n_estimators=751; total time=   0.4s\n",
      "[CV 5/5] END max_depth=None, min_samples_leaf=27, min_samples_split=40, n_estimators=751; total time=   0.4s\n",
      "[CV 1/5] END max_depth=1, min_samples_leaf=37, min_samples_split=46, n_estimators=601; total time=   0.3s\n",
      "[CV 2/5] END max_depth=1, min_samples_leaf=37, min_samples_split=46, n_estimators=601; total time=   0.3s\n",
      "[CV 3/5] END max_depth=1, min_samples_leaf=37, min_samples_split=46, n_estimators=601; total time=   0.4s\n",
      "[CV 4/5] END max_depth=1, min_samples_leaf=37, min_samples_split=46, n_estimators=601; total time=   0.3s\n",
      "[CV 5/5] END max_depth=1, min_samples_leaf=37, min_samples_split=46, n_estimators=601; total time=   0.4s\n",
      "[CV 1/5] END max_depth=5, min_samples_leaf=43, min_samples_split=68, n_estimators=1501; total time=   0.9s\n",
      "[CV 2/5] END max_depth=5, min_samples_leaf=43, min_samples_split=68, n_estimators=1501; total time=   0.9s\n",
      "[CV 3/5] END max_depth=5, min_samples_leaf=43, min_samples_split=68, n_estimators=1501; total time=   1.0s\n",
      "[CV 4/5] END max_depth=5, min_samples_leaf=43, min_samples_split=68, n_estimators=1501; total time=   1.0s\n",
      "[CV 5/5] END max_depth=5, min_samples_leaf=43, min_samples_split=68, n_estimators=1501; total time=   0.9s\n",
      "[CV 1/5] END max_depth=2, min_samples_leaf=41, min_samples_split=30, n_estimators=701; total time=   0.5s\n",
      "[CV 2/5] END max_depth=2, min_samples_leaf=41, min_samples_split=30, n_estimators=701; total time=   0.6s\n",
      "[CV 3/5] END max_depth=2, min_samples_leaf=41, min_samples_split=30, n_estimators=701; total time=   0.5s\n",
      "[CV 4/5] END max_depth=2, min_samples_leaf=41, min_samples_split=30, n_estimators=701; total time=   0.5s\n",
      "[CV 5/5] END max_depth=2, min_samples_leaf=41, min_samples_split=30, n_estimators=701; total time=   0.5s\n",
      "[CV 1/5] END max_depth=3, min_samples_leaf=17, min_samples_split=10, n_estimators=301; total time=   0.2s\n",
      "[CV 2/5] END max_depth=3, min_samples_leaf=17, min_samples_split=10, n_estimators=301; total time=   0.1s\n",
      "[CV 3/5] END max_depth=3, min_samples_leaf=17, min_samples_split=10, n_estimators=301; total time=   0.2s\n",
      "[CV 4/5] END max_depth=3, min_samples_leaf=17, min_samples_split=10, n_estimators=301; total time=   0.2s\n",
      "[CV 5/5] END max_depth=3, min_samples_leaf=17, min_samples_split=10, n_estimators=301; total time=   0.2s\n",
      "[CV 1/5] END max_depth=5, min_samples_leaf=7, min_samples_split=66, n_estimators=4901; total time=   2.8s\n",
      "[CV 2/5] END max_depth=5, min_samples_leaf=7, min_samples_split=66, n_estimators=4901; total time=   2.8s\n",
      "[CV 3/5] END max_depth=5, min_samples_leaf=7, min_samples_split=66, n_estimators=4901; total time=   2.8s\n",
      "[CV 4/5] END max_depth=5, min_samples_leaf=7, min_samples_split=66, n_estimators=4901; total time=   2.8s\n",
      "[CV 5/5] END max_depth=5, min_samples_leaf=7, min_samples_split=66, n_estimators=4901; total time=   2.8s\n",
      "[CV 1/5] END max_depth=5, min_samples_leaf=47, min_samples_split=28, n_estimators=2101; total time=   1.2s\n",
      "[CV 2/5] END max_depth=5, min_samples_leaf=47, min_samples_split=28, n_estimators=2101; total time=   1.3s\n",
      "[CV 3/5] END max_depth=5, min_samples_leaf=47, min_samples_split=28, n_estimators=2101; total time=   1.2s\n",
      "[CV 4/5] END max_depth=5, min_samples_leaf=47, min_samples_split=28, n_estimators=2101; total time=   1.2s\n",
      "[CV 5/5] END max_depth=5, min_samples_leaf=47, min_samples_split=28, n_estimators=2101; total time=   1.3s\n",
      "[CV 1/5] END max_depth=3, min_samples_leaf=31, min_samples_split=44, n_estimators=3501; total time=   2.0s\n",
      "[CV 2/5] END max_depth=3, min_samples_leaf=31, min_samples_split=44, n_estimators=3501; total time=   1.9s\n",
      "[CV 3/5] END max_depth=3, min_samples_leaf=31, min_samples_split=44, n_estimators=3501; total time=   2.0s\n",
      "[CV 4/5] END max_depth=3, min_samples_leaf=31, min_samples_split=44, n_estimators=3501; total time=   2.0s\n",
      "[CV 5/5] END max_depth=3, min_samples_leaf=31, min_samples_split=44, n_estimators=3501; total time=   2.0s\n",
      "[CV 1/5] END max_depth=None, min_samples_leaf=45, min_samples_split=30, n_estimators=4801; total time=   2.7s\n",
      "[CV 2/5] END max_depth=None, min_samples_leaf=45, min_samples_split=30, n_estimators=4801; total time=   2.7s\n",
      "[CV 3/5] END max_depth=None, min_samples_leaf=45, min_samples_split=30, n_estimators=4801; total time=   3.0s\n",
      "[CV 4/5] END max_depth=None, min_samples_leaf=45, min_samples_split=30, n_estimators=4801; total time=   2.8s\n",
      "[CV 5/5] END max_depth=None, min_samples_leaf=45, min_samples_split=30, n_estimators=4801; total time=   2.7s\n",
      "[CV 1/5] END max_depth=4, min_samples_leaf=49, min_samples_split=60, n_estimators=4201; total time=   2.4s\n",
      "[CV 2/5] END max_depth=4, min_samples_leaf=49, min_samples_split=60, n_estimators=4201; total time=   2.4s\n",
      "[CV 3/5] END max_depth=4, min_samples_leaf=49, min_samples_split=60, n_estimators=4201; total time=   2.3s\n",
      "[CV 4/5] END max_depth=4, min_samples_leaf=49, min_samples_split=60, n_estimators=4201; total time=   2.4s\n",
      "[CV 5/5] END max_depth=4, min_samples_leaf=49, min_samples_split=60, n_estimators=4201; total time=   2.3s\n",
      "[CV 1/5] END max_depth=1, min_samples_leaf=27, min_samples_split=84, n_estimators=751; total time=   0.4s\n",
      "[CV 2/5] END max_depth=1, min_samples_leaf=27, min_samples_split=84, n_estimators=751; total time=   0.4s\n",
      "[CV 3/5] END max_depth=1, min_samples_leaf=27, min_samples_split=84, n_estimators=751; total time=   0.4s\n",
      "[CV 4/5] END max_depth=1, min_samples_leaf=27, min_samples_split=84, n_estimators=751; total time=   0.4s\n",
      "[CV 5/5] END max_depth=1, min_samples_leaf=27, min_samples_split=84, n_estimators=751; total time=   0.4s\n",
      "[CV 1/5] END max_depth=5, min_samples_leaf=21, min_samples_split=32, n_estimators=4901; total time=   2.8s\n",
      "[CV 2/5] END max_depth=5, min_samples_leaf=21, min_samples_split=32, n_estimators=4901; total time=   2.7s\n",
      "[CV 3/5] END max_depth=5, min_samples_leaf=21, min_samples_split=32, n_estimators=4901; total time=   2.7s\n",
      "[CV 4/5] END max_depth=5, min_samples_leaf=21, min_samples_split=32, n_estimators=4901; total time=   2.8s\n",
      "[CV 5/5] END max_depth=5, min_samples_leaf=21, min_samples_split=32, n_estimators=4901; total time=   2.8s\n",
      "[CV 1/5] END max_depth=None, min_samples_leaf=45, min_samples_split=34, n_estimators=2801; total time=   1.6s\n",
      "[CV 2/5] END max_depth=None, min_samples_leaf=45, min_samples_split=34, n_estimators=2801; total time=   1.6s\n",
      "[CV 3/5] END max_depth=None, min_samples_leaf=45, min_samples_split=34, n_estimators=2801; total time=   1.6s\n",
      "[CV 4/5] END max_depth=None, min_samples_leaf=45, min_samples_split=34, n_estimators=2801; total time=   1.6s\n",
      "[CV 5/5] END max_depth=None, min_samples_leaf=45, min_samples_split=34, n_estimators=2801; total time=   1.7s\n",
      "[CV 1/5] END max_depth=1, min_samples_leaf=21, min_samples_split=42, n_estimators=3151; total time=   1.9s\n"
     ]
    },
    {
     "name": "stdout",
     "output_type": "stream",
     "text": [
      "[CV 2/5] END max_depth=1, min_samples_leaf=21, min_samples_split=42, n_estimators=3151; total time=   1.8s\n",
      "[CV 3/5] END max_depth=1, min_samples_leaf=21, min_samples_split=42, n_estimators=3151; total time=   1.8s\n",
      "[CV 4/5] END max_depth=1, min_samples_leaf=21, min_samples_split=42, n_estimators=3151; total time=   1.8s\n",
      "[CV 5/5] END max_depth=1, min_samples_leaf=21, min_samples_split=42, n_estimators=3151; total time=   1.8s\n",
      "[CV 1/5] END max_depth=1, min_samples_leaf=37, min_samples_split=96, n_estimators=1301; total time=   0.8s\n",
      "[CV 2/5] END max_depth=1, min_samples_leaf=37, min_samples_split=96, n_estimators=1301; total time=   0.8s\n",
      "[CV 3/5] END max_depth=1, min_samples_leaf=37, min_samples_split=96, n_estimators=1301; total time=   0.8s\n",
      "[CV 4/5] END max_depth=1, min_samples_leaf=37, min_samples_split=96, n_estimators=1301; total time=   0.9s\n",
      "[CV 5/5] END max_depth=1, min_samples_leaf=37, min_samples_split=96, n_estimators=1301; total time=   0.8s\n",
      "[CV 1/5] END max_depth=3, min_samples_leaf=39, min_samples_split=80, n_estimators=1951; total time=   1.1s\n",
      "[CV 2/5] END max_depth=3, min_samples_leaf=39, min_samples_split=80, n_estimators=1951; total time=   1.1s\n",
      "[CV 3/5] END max_depth=3, min_samples_leaf=39, min_samples_split=80, n_estimators=1951; total time=   1.1s\n",
      "[CV 4/5] END max_depth=3, min_samples_leaf=39, min_samples_split=80, n_estimators=1951; total time=   1.1s\n",
      "[CV 5/5] END max_depth=3, min_samples_leaf=39, min_samples_split=80, n_estimators=1951; total time=   1.1s\n",
      "[CV 1/5] END max_depth=5, min_samples_leaf=29, min_samples_split=98, n_estimators=2801; total time=   1.6s\n",
      "[CV 2/5] END max_depth=5, min_samples_leaf=29, min_samples_split=98, n_estimators=2801; total time=   1.6s\n",
      "[CV 3/5] END max_depth=5, min_samples_leaf=29, min_samples_split=98, n_estimators=2801; total time=   1.5s\n",
      "[CV 4/5] END max_depth=5, min_samples_leaf=29, min_samples_split=98, n_estimators=2801; total time=   1.6s\n",
      "[CV 5/5] END max_depth=5, min_samples_leaf=29, min_samples_split=98, n_estimators=2801; total time=   1.6s\n",
      "[CV 1/5] END max_depth=2, min_samples_leaf=15, min_samples_split=86, n_estimators=1051; total time=   0.7s\n",
      "[CV 2/5] END max_depth=2, min_samples_leaf=15, min_samples_split=86, n_estimators=1051; total time=   0.7s\n",
      "[CV 3/5] END max_depth=2, min_samples_leaf=15, min_samples_split=86, n_estimators=1051; total time=   0.6s\n",
      "[CV 4/5] END max_depth=2, min_samples_leaf=15, min_samples_split=86, n_estimators=1051; total time=   0.7s\n",
      "[CV 5/5] END max_depth=2, min_samples_leaf=15, min_samples_split=86, n_estimators=1051; total time=   0.6s\n"
     ]
    },
    {
     "data": {
      "text/plain": [
       "RandomizedSearchCV(cv=5, estimator=RandomForestClassifier(n_jobs=-1), n_iter=20,\n",
       "                   param_distributions={'max_depth': [None, 1, 2, 3, 4, 5],\n",
       "                                        'min_samples_leaf': array([ 1,  3,  5,  7,  9, 11, 13, 15, 17, 19, 21, 23, 25, 27, 29, 31, 33,\n",
       "       35, 37, 39, 41, 43, 45, 47, 49]),\n",
       "                                        'min_samples_split': array([ 2,  4,  6,  8, 10, 12, 14, 16, 18, 20, 22, 24, 26, 28, 30, 32, 34,\n",
       "       36, 38, 40, 42, 44, 46, 48, 50, 52, 54, 56, 58, 60, 62, 64, 66, 68...\n",
       "       1101, 1151, 1201, 1251, 1301, 1351, 1401, 1451, 1501, 1551, 1601,\n",
       "       1651, 1701, 1751, 1801, 1851, 1901, 1951, 2001, 2051, 2101, 2151,\n",
       "       2201, 2251, 2301, 2351, 2401, 2451, 2501, 2551, 2601, 2651, 2701,\n",
       "       2751, 2801, 2851, 2901, 2951, 3001, 3051, 3101, 3151, 3201, 3251,\n",
       "       3301, 3351, 3401, 3451, 3501, 3551, 3601, 3651, 3701, 3751, 3801,\n",
       "       3851, 3901, 3951, 4001, 4051, 4101, 4151, 4201, 4251, 4301, 4351,\n",
       "       4401, 4451, 4501, 4551, 4601, 4651, 4701, 4751, 4801, 4851, 4901,\n",
       "       4951])},\n",
       "                   verbose=5)"
      ]
     },
     "execution_count": 69,
     "metadata": {},
     "output_type": "execute_result"
    }
   ],
   "source": [
    "# Tune RandomForest\n",
    "np.random.seed(100)\n",
    "\n",
    "rs_rf = RandomizedSearchCV(RandomForestClassifier(n_jobs=-1),\n",
    "                               param_distributions = rf_grid,\n",
    "                               cv= 5,\n",
    "                               n_iter = 20,\n",
    "                               verbose=5)\n",
    "\n",
    "rs_rf.fit(X_train, y_train)"
   ]
  },
  {
   "cell_type": "code",
   "execution_count": 70,
   "id": "929f632a",
   "metadata": {},
   "outputs": [
    {
     "data": {
      "text/plain": [
       "{'n_estimators': 4901,\n",
       " 'min_samples_split': 66,\n",
       " 'min_samples_leaf': 7,\n",
       " 'max_depth': 5}"
      ]
     },
     "execution_count": 70,
     "metadata": {},
     "output_type": "execute_result"
    }
   ],
   "source": [
    "rs_rf.best_params_"
   ]
  },
  {
   "cell_type": "code",
   "execution_count": 71,
   "id": "44ee3edf",
   "metadata": {},
   "outputs": [
    {
     "data": {
      "text/plain": [
       "0.8852459016393442"
      ]
     },
     "execution_count": 71,
     "metadata": {},
     "output_type": "execute_result"
    }
   ],
   "source": [
    "rs_rf.score(X_test, y_test)"
   ]
  },
  {
   "cell_type": "markdown",
   "id": "0f2f3848",
   "metadata": {},
   "source": [
    "### Tuning RandomForest hyperparameters using gridsearch"
   ]
  },
  {
   "cell_type": "code",
   "execution_count": 41,
   "id": "630c15de",
   "metadata": {},
   "outputs": [],
   "source": [
    "from sklearn.model_selection import GridSearchCV"
   ]
  },
  {
   "cell_type": "code",
   "execution_count": 49,
   "id": "0658d596",
   "metadata": {},
   "outputs": [],
   "source": [
    "# Hyperparameter grid for RandomForestClassifier\n",
    "rf_grid = {'n_estimators': np.arange(400, 800, 50),\n",
    "           'max_depth': [None],\n",
    "           'min_samples_split': np.arange(10,40,2),\n",
    "           'min_samples_leaf': np.arange(2, 6, 1)}"
   ]
  },
  {
   "cell_type": "code",
   "execution_count": 51,
   "id": "a7cacb8e",
   "metadata": {},
   "outputs": [
    {
     "name": "stdout",
     "output_type": "stream",
     "text": [
      "Fitting 2 folds for each of 480 candidates, totalling 960 fits\n"
     ]
    },
    {
     "data": {
      "text/plain": [
       "GridSearchCV(cv=2, estimator=RandomForestClassifier(n_jobs=-1),\n",
       "             param_grid={'max_depth': [None],\n",
       "                         'min_samples_leaf': array([2, 3, 4, 5]),\n",
       "                         'min_samples_split': array([10, 12, 14, 16, 18, 20, 22, 24, 26, 28, 30, 32, 34, 36, 38]),\n",
       "                         'n_estimators': array([400, 450, 500, 550, 600, 650, 700, 750])},\n",
       "             verbose=True)"
      ]
     },
     "execution_count": 51,
     "metadata": {},
     "output_type": "execute_result"
    }
   ],
   "source": [
    "# Tune RandomForest\n",
    "np.random.seed(100)\n",
    "\n",
    "gs_rf = GridSearchCV(RandomForestClassifier(n_jobs=-1),\n",
    "                               param_grid = rf_grid,\n",
    "                               cv= 2,\n",
    "                               verbose=True)\n",
    "\n",
    "gs_rf.fit(X_train, y_train)"
   ]
  },
  {
   "cell_type": "code",
   "execution_count": 77,
   "id": "bfafc5fc",
   "metadata": {},
   "outputs": [
    {
     "data": {
      "text/plain": [
       "{'max_depth': None,\n",
       " 'min_samples_leaf': 5,\n",
       " 'min_samples_split': 32,\n",
       " 'n_estimators': 700}"
      ]
     },
     "execution_count": 77,
     "metadata": {},
     "output_type": "execute_result"
    }
   ],
   "source": [
    "gs_rf.best_params_"
   ]
  },
  {
   "cell_type": "code",
   "execution_count": 78,
   "id": "ad664fde",
   "metadata": {},
   "outputs": [
    {
     "data": {
      "text/plain": [
       "0.8852459016393442"
      ]
     },
     "execution_count": 78,
     "metadata": {},
     "output_type": "execute_result"
    }
   ],
   "source": [
    "gs_rf.score(X_test, y_test)"
   ]
  },
  {
   "cell_type": "markdown",
   "id": "c69ac1b9",
   "metadata": {},
   "source": [
    "## Conclusion - Evaluation of Model\n",
    "* ROC curve and AUC score\n",
    "* Confusion matrix\n",
    "* Classification report\n",
    "* Prescision\n",
    "* Recall\n",
    "* F1-score"
   ]
  },
  {
   "cell_type": "code",
   "execution_count": 80,
   "id": "89b84d89",
   "metadata": {},
   "outputs": [],
   "source": [
    "# Make predittion with tuned model\n",
    "y_preds = rs_rf.predict(X_test)"
   ]
  },
  {
   "cell_type": "code",
   "execution_count": 82,
   "id": "f7451436",
   "metadata": {},
   "outputs": [],
   "source": [
    "# Import Model Evaluations\n",
    "from sklearn.model_selection import cross_val_score\n",
    "from sklearn.metrics import confusion_matrix, classification_report\n",
    "from sklearn.metrics import precision_score, recall_score, f1_score\n",
    "from sklearn.metrics import plot_roc_curve"
   ]
  },
  {
   "cell_type": "code",
   "execution_count": 84,
   "id": "eb4ca2df",
   "metadata": {},
   "outputs": [
    {
     "data": {
      "text/plain": [
       "<sklearn.metrics._plot.roc_curve.RocCurveDisplay at 0x20be75d0280>"
      ]
     },
     "execution_count": 84,
     "metadata": {},
     "output_type": "execute_result"
    },
    {
     "data": {
      "image/png": "[encoded data removed]",
      "text/plain": [
       "<Figure size 432x288 with 1 Axes>"
      ]
     },
     "metadata": {
      "needs_background": "light"
     },
     "output_type": "display_data"
    }
   ],
   "source": [
    "# Plot ROC curve and calculate AUC metric for rs_rf\n",
    "plot_roc_curve(gs_rf, X_test, y_test)"
   ]
  },
  {
   "cell_type": "markdown",
   "id": "78d7a7aa",
   "metadata": {},
   "source": [
    "#### ROC Curve and AUC Score"
   ]
  },
  {
   "cell_type": "code",
   "execution_count": 85,
   "id": "55ae458b",
   "metadata": {},
   "outputs": [
    {
     "name": "stdout",
     "output_type": "stream",
     "text": [
      "[[24  7]\n",
      " [ 0 30]]\n"
     ]
    }
   ],
   "source": [
    "# Confusion matrix\n",
    "print(confusion_matrix(y_test, y_preds))"
   ]
  },
  {
   "cell_type": "markdown",
   "id": "2c1c835b",
   "metadata": {},
   "source": [
    "#### Confusion Matrix"
   ]
  },
  {
   "cell_type": "code",
   "execution_count": 92,
   "id": "6562673f",
   "metadata": {},
   "outputs": [
    {
     "data": {
      "image/png": "[encoded data removed]",
      "text/plain": [
       "<Figure size 216x216 with 1 Axes>"
      ]
     },
     "metadata": {},
     "output_type": "display_data"
    }
   ],
   "source": [
    "def plot_conf_mat(y_test, y_preds):\n",
    "    \"\"\"\n",
    "    Plots a nice looking confusion matrix using Seaborn's heatmap()\n",
    "    \"\"\"\n",
    "    fig, ax = plt.subplots(figsize=(3,3))\n",
    "    ax = sns.heatmap(confusion_matrix(y_test, y_preds),\n",
    "                    annot=True,\n",
    "                    cbar = False)\n",
    "    plt.xlabel('Predicted label')\n",
    "    plt.ylabel('True label')\n",
    "    sns.set(font_scale=1.5)\n",
    "\n",
    "plot_conf_mat(y_test, y_preds)"
   ]
  },
  {
   "cell_type": "markdown",
   "id": "a4463fad",
   "metadata": {},
   "source": [
    "#### Classification report"
   ]
  },
  {
   "cell_type": "code",
   "execution_count": 94,
   "id": "d03eb15b",
   "metadata": {},
   "outputs": [
    {
     "name": "stdout",
     "output_type": "stream",
     "text": [
      "              precision    recall  f1-score   support\n",
      "\n",
      "           0       1.00      0.77      0.87        31\n",
      "           1       0.81      1.00      0.90        30\n",
      "\n",
      "    accuracy                           0.89        61\n",
      "   macro avg       0.91      0.89      0.88        61\n",
      "weighted avg       0.91      0.89      0.88        61\n",
      "\n"
     ]
    }
   ],
   "source": [
    "print(classification_report(y_test, y_preds))"
   ]
  },
  {
   "cell_type": "markdown",
   "id": "d94a6116",
   "metadata": {},
   "source": [
    "##### Calculate evaluation metrics using cross-validation\n",
    "Calculate accuracy, precision, recall, f1-score of the best model using cross-validation function `cross_val_score()`"
   ]
  },
  {
   "cell_type": "code",
   "execution_count": 125,
   "id": "3ca18bcb",
   "metadata": {},
   "outputs": [
    {
     "data": {
      "text/plain": [
       "{'max_depth': None,\n",
       " 'min_samples_leaf': 5,\n",
       " 'min_samples_split': 32,\n",
       " 'n_estimators': 700}"
      ]
     },
     "execution_count": 125,
     "metadata": {},
     "output_type": "execute_result"
    }
   ],
   "source": [
    "gs_rf.best_params_"
   ]
  },
  {
   "cell_type": "code",
   "execution_count": 98,
   "id": "692628fa",
   "metadata": {},
   "outputs": [],
   "source": [
    "# New instance of the best parameters\n",
    "clf = RandomForestClassifier(max_depth=None, min_samples_leaf=5, min_samples_split=32, n_jobs=-1, n_estimators=700)"
   ]
  },
  {
   "cell_type": "code",
   "execution_count": 121,
   "id": "85ccfdf4",
   "metadata": {},
   "outputs": [
    {
     "data": {
      "text/plain": [
       "0.8316393442622951"
      ]
     },
     "execution_count": 121,
     "metadata": {},
     "output_type": "execute_result"
    }
   ],
   "source": [
    "# Cross-validated accuracy\n",
    "cv_acc = cross_val_score(clf, x, y, cv=5, scoring=\"accuracy\")\n",
    "cv_acc = np.mean(cv_acc)\n",
    "cv_acc"
   ]
  },
  {
   "cell_type": "code",
   "execution_count": 131,
   "id": "41a47fd4",
   "metadata": {},
   "outputs": [
    {
     "data": {
      "text/plain": [
       "0.8315083527583529"
      ]
     },
     "execution_count": 131,
     "metadata": {},
     "output_type": "execute_result"
    }
   ],
   "source": [
    "# Cross-validated precision\n",
    "cv_precision = cross_val_score(clf, x, y, cv=5, scoring=\"precision\")\n",
    "cv_precision = np.mean(cv_precision)\n",
    "cv_precision"
   ]
  },
  {
   "cell_type": "code",
   "execution_count": 132,
   "id": "f48aa0a3",
   "metadata": {},
   "outputs": [
    {
     "data": {
      "text/plain": [
       "0.8969696969696969"
      ]
     },
     "execution_count": 132,
     "metadata": {},
     "output_type": "execute_result"
    }
   ],
   "source": [
    "# Cross-validated recall\n",
    "cv_recall = cross_val_score(clf, x, y, cv=5, scoring=\"recall\")\n",
    "cv_recall = np.mean(cv_recall)\n",
    "cv_recall"
   ]
  },
  {
   "cell_type": "code",
   "execution_count": 134,
   "id": "cbc71404",
   "metadata": {},
   "outputs": [
    {
     "data": {
      "text/plain": [
       "0.8577715392170253"
      ]
     },
     "execution_count": 134,
     "metadata": {},
     "output_type": "execute_result"
    }
   ],
   "source": [
    "# Cross-validated f1 score\n",
    "cv_f1 = cross_val_score(clf, x, y, cv=5, scoring=\"f1\")\n",
    "cv_f1 = np.mean(cv_f1)\n",
    "cv_f1"
   ]
  },
  {
   "cell_type": "code",
   "execution_count": 146,
   "id": "103b1f30",
   "metadata": {},
   "outputs": [
    {
     "data": {
      "image/png": "[encoded data removed]",
      "text/plain": [
       "<Figure size 432x288 with 1 Axes>"
      ]
     },
     "metadata": {},
     "output_type": "display_data"
    }
   ],
   "source": [
    "# Visualize cross-vlaidated metrics\n",
    "\n",
    "metric_scores = {\"Accuracy\": cv_acc,\n",
    "        \"Precision\": cv_precision,\n",
    "        \"Recall\": cv_recall,\n",
    "        \"F1\": cv_f1_score}\n",
    "arr = np.array(metric_scores)\n",
    "#print(arr)\n",
    "\n",
    "cv_metrics = pd.DataFrame(metric_scores, index=[0])\n",
    "\n",
    "cv_metrics.T.plot.bar(title=\"Cross-validated metrics\", legend=False );"
   ]
  },
  {
   "cell_type": "markdown",
   "id": "caa2e930",
   "metadata": {},
   "source": [
    "### Feature Importance\n",
    "Feature importance is another way of asking which features contributed most to the outcome of the model?"
   ]
  },
  {
   "cell_type": "code",
   "execution_count": 149,
   "id": "a1d73f7f",
   "metadata": {
    "scrolled": true
   },
   "outputs": [
    {
     "data": {
      "text/html": [
       "<div>\n",
       "<style scoped>\n",
       "    .dataframe tbody tr th:only-of-type {\n",
       "        vertical-align: middle;\n",
       "    }\n",
       "\n",
       "    .dataframe tbody tr th {\n",
       "        vertical-align: top;\n",
       "    }\n",
       "\n",
       "    .dataframe thead th {\n",
       "        text-align: right;\n",
       "    }\n",
       "</style>\n",
       "<table border=\"1\" class=\"dataframe\">\n",
       "  <thead>\n",
       "    <tr style=\"text-align: right;\">\n",
       "      <th></th>\n",
       "      <th>age</th>\n",
       "      <th>sex</th>\n",
       "      <th>cp</th>\n",
       "      <th>trestbps</th>\n",
       "      <th>chol</th>\n",
       "      <th>fbs</th>\n",
       "      <th>restecg</th>\n",
       "      <th>thalach</th>\n",
       "      <th>exang</th>\n",
       "      <th>oldpeak</th>\n",
       "      <th>slope</th>\n",
       "      <th>ca</th>\n",
       "      <th>thal</th>\n",
       "      <th>target</th>\n",
       "    </tr>\n",
       "  </thead>\n",
       "  <tbody>\n",
       "    <tr>\n",
       "      <th>0</th>\n",
       "      <td>63</td>\n",
       "      <td>1</td>\n",
       "      <td>3</td>\n",
       "      <td>145</td>\n",
       "      <td>233</td>\n",
       "      <td>1</td>\n",
       "      <td>0</td>\n",
       "      <td>150</td>\n",
       "      <td>0</td>\n",
       "      <td>2.3</td>\n",
       "      <td>0</td>\n",
       "      <td>0</td>\n",
       "      <td>1</td>\n",
       "      <td>1</td>\n",
       "    </tr>\n",
       "    <tr>\n",
       "      <th>1</th>\n",
       "      <td>37</td>\n",
       "      <td>1</td>\n",
       "      <td>2</td>\n",
       "      <td>130</td>\n",
       "      <td>250</td>\n",
       "      <td>0</td>\n",
       "      <td>1</td>\n",
       "      <td>187</td>\n",
       "      <td>0</td>\n",
       "      <td>3.5</td>\n",
       "      <td>0</td>\n",
       "      <td>0</td>\n",
       "      <td>2</td>\n",
       "      <td>1</td>\n",
       "    </tr>\n",
       "    <tr>\n",
       "      <th>2</th>\n",
       "      <td>41</td>\n",
       "      <td>0</td>\n",
       "      <td>1</td>\n",
       "      <td>130</td>\n",
       "      <td>204</td>\n",
       "      <td>0</td>\n",
       "      <td>0</td>\n",
       "      <td>172</td>\n",
       "      <td>0</td>\n",
       "      <td>1.4</td>\n",
       "      <td>2</td>\n",
       "      <td>0</td>\n",
       "      <td>2</td>\n",
       "      <td>1</td>\n",
       "    </tr>\n",
       "    <tr>\n",
       "      <th>3</th>\n",
       "      <td>56</td>\n",
       "      <td>1</td>\n",
       "      <td>1</td>\n",
       "      <td>120</td>\n",
       "      <td>236</td>\n",
       "      <td>0</td>\n",
       "      <td>1</td>\n",
       "      <td>178</td>\n",
       "      <td>0</td>\n",
       "      <td>0.8</td>\n",
       "      <td>2</td>\n",
       "      <td>0</td>\n",
       "      <td>2</td>\n",
       "      <td>1</td>\n",
       "    </tr>\n",
       "    <tr>\n",
       "      <th>4</th>\n",
       "      <td>57</td>\n",
       "      <td>0</td>\n",
       "      <td>0</td>\n",
       "      <td>120</td>\n",
       "      <td>354</td>\n",
       "      <td>0</td>\n",
       "      <td>1</td>\n",
       "      <td>163</td>\n",
       "      <td>1</td>\n",
       "      <td>0.6</td>\n",
       "      <td>2</td>\n",
       "      <td>0</td>\n",
       "      <td>2</td>\n",
       "      <td>1</td>\n",
       "    </tr>\n",
       "  </tbody>\n",
       "</table>\n",
       "</div>"
      ],
      "text/plain": [
       "   age  sex  cp  trestbps  chol  fbs  restecg  thalach  exang  oldpeak  slope  \\\n",
       "0   63    1   3       145   233    1        0      150      0      2.3      0   \n",
       "1   37    1   2       130   250    0        1      187      0      3.5      0   \n",
       "2   41    0   1       130   204    0        0      172      0      1.4      2   \n",
       "3   56    1   1       120   236    0        1      178      0      0.8      2   \n",
       "4   57    0   0       120   354    0        1      163      1      0.6      2   \n",
       "\n",
       "   ca  thal  target  \n",
       "0   0     1       1  \n",
       "1   0     2       1  \n",
       "2   0     2       1  \n",
       "3   0     2       1  \n",
       "4   0     2       1  "
      ]
     },
     "execution_count": 149,
     "metadata": {},
     "output_type": "execute_result"
    }
   ],
   "source": [
    "data.head()"
   ]
  },
  {
   "cell_type": "code",
   "execution_count": 167,
   "id": "9a1a8a33",
   "metadata": {},
   "outputs": [],
   "source": [
    "# New instance of the best parameters\n",
    "clf = RandomForestClassifier(max_depth=None, min_samples_leaf=5, min_samples_split=32, n_jobs=-1, n_estimators=700)\n",
    "clf.fit(X_train, y_train)\n",
    "feature_importance = clf.feature_importances_"
   ]
  },
  {
   "cell_type": "code",
   "execution_count": 177,
   "id": "889c859e",
   "metadata": {
    "scrolled": true
   },
   "outputs": [
    {
     "data": {
      "text/plain": [
       "<AxesSubplot:title={'center':'Feature importance for Random Forest Classifier'}>"
      ]
     },
     "execution_count": 177,
     "metadata": {},
     "output_type": "execute_result"
    },
    {
     "data": {
      "image/png": "[encoded data removed]",
      "text/plain": [
       "<Figure size 432x288 with 1 Axes>"
      ]
     },
     "metadata": {
      "needs_background": "light"
     },
     "output_type": "display_data"
    }
   ],
   "source": [
    "fi = pd.DataFrame([feature_importance], columns=X_train.columns)\n",
    "fi.T.plot.bar(legend=False, title=\"Feature importance for Random Forest Classifier\")"
   ]
  }
 ],
 "metadata": {
  "kernelspec": {
   "display_name": "Python 3",
   "language": "python",
   "name": "python3"
  },
  "language_info": {
   "codemirror_mode": {
    "name": "ipython",
    "version": 3
   },
   "file_extension": ".py",
   "mimetype": "text/x-python",
   "name": "python",
   "nbconvert_exporter": "python",
   "pygments_lexer": "ipython3",
   "version": "3.9.2"
  }
 },
 "nbformat": 4,
 "nbformat_minor": 5
}
